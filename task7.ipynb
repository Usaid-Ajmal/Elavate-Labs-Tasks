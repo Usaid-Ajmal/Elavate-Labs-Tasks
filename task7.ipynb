{
 "cells": [
  {
   "cell_type": "code",
   "execution_count": 1,
   "id": "d884da46",
   "metadata": {},
   "outputs": [
    {
     "name": "stdout",
     "output_type": "stream",
     "text": [
      "Requirement already satisfied: numpy in c:\\users\\uyyu2\\anaconda3\\envs\\rp_env\\lib\\site-packages (2.1.1)\n",
      "Requirement already satisfied: pandas in c:\\users\\uyyu2\\anaconda3\\envs\\rp_env\\lib\\site-packages (2.2.2)\n",
      "Requirement already satisfied: matplotlib in c:\\users\\uyyu2\\anaconda3\\envs\\rp_env\\lib\\site-packages (3.10.1)\n",
      "Requirement already satisfied: seaborn in c:\\users\\uyyu2\\anaconda3\\envs\\rp_env\\lib\\site-packages (0.13.2)\n",
      "Requirement already satisfied: python-dateutil>=2.8.2 in c:\\users\\uyyu2\\anaconda3\\envs\\rp_env\\lib\\site-packages (from pandas) (2.9.0.post0)\n",
      "Requirement already satisfied: pytz>=2020.1 in c:\\users\\uyyu2\\anaconda3\\envs\\rp_env\\lib\\site-packages (from pandas) (2024.1)\n",
      "Requirement already satisfied: tzdata>=2022.7 in c:\\users\\uyyu2\\anaconda3\\envs\\rp_env\\lib\\site-packages (from pandas) (2024.1)\n",
      "Requirement already satisfied: contourpy>=1.0.1 in c:\\users\\uyyu2\\anaconda3\\envs\\rp_env\\lib\\site-packages (from matplotlib) (1.3.2)\n",
      "Requirement already satisfied: cycler>=0.10 in c:\\users\\uyyu2\\anaconda3\\envs\\rp_env\\lib\\site-packages (from matplotlib) (0.12.1)\n",
      "Requirement already satisfied: fonttools>=4.22.0 in c:\\users\\uyyu2\\anaconda3\\envs\\rp_env\\lib\\site-packages (from matplotlib) (4.57.0)\n",
      "Requirement already satisfied: kiwisolver>=1.3.1 in c:\\users\\uyyu2\\anaconda3\\envs\\rp_env\\lib\\site-packages (from matplotlib) (1.4.8)\n",
      "Requirement already satisfied: packaging>=20.0 in c:\\users\\uyyu2\\anaconda3\\envs\\rp_env\\lib\\site-packages (from matplotlib) (24.1)\n",
      "Requirement already satisfied: pillow>=8 in c:\\users\\uyyu2\\anaconda3\\envs\\rp_env\\lib\\site-packages (from matplotlib) (11.2.1)\n",
      "Requirement already satisfied: pyparsing>=2.3.1 in c:\\users\\uyyu2\\anaconda3\\envs\\rp_env\\lib\\site-packages (from matplotlib) (3.2.3)\n",
      "Requirement already satisfied: six>=1.5 in c:\\users\\uyyu2\\anaconda3\\envs\\rp_env\\lib\\site-packages (from python-dateutil>=2.8.2->pandas) (1.16.0)\n"
     ]
    }
   ],
   "source": [
    "!pip install numpy pandas matplotlib seaborn "
   ]
  },
  {
   "cell_type": "code",
   "execution_count": 3,
   "id": "217a7a47",
   "metadata": {},
   "outputs": [],
   "source": [
    "import sqlite3\n",
    "\n",
    "conn = sqlite3.connect('sales.db')\n",
    "cursor = conn.cursor()\n",
    "\n",
    "\n",
    "cursor.execute('''\n",
    "               CREATE TABLE IF NOT EXISTS sales_data(\n",
    "                   id INTEGER PRIMARY KEY,\n",
    "                   product TEXT,\n",
    "                   quantity INTEGER,\n",
    "                   price REAL,\n",
    "                   sale_date TEXT\n",
    "               )\n",
    "                               \n",
    "''')\n",
    "\n",
    "sample_data = [\n",
    "    ('Laptop', 5, 999.99, '2023-01-15'),\n",
    "    ('Phone', 10, 699.99, '2023-01-15'),\n",
    "    ('Laptop', 3, 999.99, '2023-01-16'),\n",
    "    ('Tablet', 7, 399.99, '2023-01-16'),\n",
    "    ('Phone', 2, 699.99, '2023-01-17'),\n",
    "    ('Tablet', 4, 399.99, '2023-01-18')\n",
    "]\n",
    "\n",
    "cursor.executemany('INSERT INTO sales_data(product, quantity, price, sale_date) VALUES (?,?,?,?)', sample_data)\n",
    "\n",
    "\n",
    "conn.commit()\n",
    "cursor.close()"
   ]
  },
  {
   "cell_type": "code",
   "execution_count": 9,
   "id": "981f6737",
   "metadata": {},
   "outputs": [
    {
     "name": "stdout",
     "output_type": "stream",
     "text": [
      "  product  total_qty   revenue\n",
      "0  Laptop         16  15999.84\n",
      "1   Phone         24  16799.76\n",
      "2  Tablet         22   8799.78\n"
     ]
    }
   ],
   "source": [
    "import pandas as pd\n",
    "import numpy as np\n",
    "import matplotlib.pyplot as plt \n",
    "\n",
    "query = 'SELECT product, SUM(quantity) AS total_qty, SUM(quantity * price) AS revenue FROM sales_data GROUP BY product'\n",
    "\n",
    "df = pd.read_sql_query(query, conn)\n",
    "print(df)"
   ]
  },
  {
   "cell_type": "code",
   "execution_count": 13,
   "id": "c0076b85",
   "metadata": {},
   "outputs": [
    {
     "data": {
      "image/png": "[encoded data removed]",
      "text/plain": [
       "<Figure size 640x480 with 1 Axes>"
      ]
     },
     "metadata": {},
     "output_type": "display_data"
    }
   ],
   "source": [
    "import seaborn as sns\n",
    "sns.barplot(x='product' , y='revenue' , data = df)\n",
    "plt.xlabel('Product')\n",
    "plt.ylabel('Revenue')\n",
    "plt.title('Revenue by Product')\n",
    "plt.show()"
   ]
  },
  {
   "cell_type": "code",
   "execution_count": null,
   "id": "27490fdd",
   "metadata": {},
   "outputs": [],
   "source": []
  }
 ],
 "metadata": {
  "kernelspec": {
   "display_name": "RP_env",
   "language": "python",
   "name": "python3"
  },
  "language_info": {
   "codemirror_mode": {
    "name": "ipython",
    "version": 3
   },
   "file_extension": ".py",
   "mimetype": "text/x-python",
   "name": "python",
   "nbconvert_exporter": "python",
   "pygments_lexer": "ipython3",
   "version": "3.12.4"
  }
 },
 "nbformat": 4,
 "nbformat_minor": 5
}
